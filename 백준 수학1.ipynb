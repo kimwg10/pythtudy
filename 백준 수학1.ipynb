{
 "cells": [
  {
   "cell_type": "code",
   "execution_count": null,
   "metadata": {},
   "outputs": [],
   "source": [
    "#손익분기점 a고정 b가변 c가격\n",
    "a,b,c=map(int,input().split())\n",
    "if b >= c : print(-1)\n",
    "else : print(a//(c-b)+1) "
   ]
  },
  {
   "cell_type": "code",
   "execution_count": 125,
   "metadata": {},
   "outputs": [
    {
     "name": "stdout",
     "output_type": "stream",
     "text": [
      "1000000000\n",
      "18258\n"
     ]
    }
   ],
   "source": [
    "#벌집 ##\n",
    "N = int(input())\n",
    "first = 1\n",
    "plus = 6\n",
    "n= 1\n",
    "while first <N :\n",
    "    first += plus\n",
    "    plus += 6\n",
    "    n +=1\n",
    "print(n)"
   ]
  },
  {
   "cell_type": "code",
   "execution_count": 154,
   "metadata": {},
   "outputs": [
    {
     "name": "stdout",
     "output_type": "stream",
     "text": [
      "5 2 23\n",
      "7\n"
     ]
    }
   ],
   "source": [
    "#달팽이\n",
    "A,B,V = map(int,input().split())\n",
    "V1 = V -A\n",
    "if V1%(A-B)==0:\n",
    "    print(V1//(A-B)+1)\n",
    "else: print(V1//(A-B) + 2)"
   ]
  },
  {
   "cell_type": "code",
   "execution_count": 65,
   "metadata": {},
   "outputs": [],
   "source": [
    "##부녀회장 (구글링 참조)\n",
    "T = int(input())\n",
    "for _ in range(T):\n",
    "    k = int(input())\n",
    "    n = int(input())\n",
    "    f0 = [ i for i in range(1, n+1)]\n",
    "    for i in range(k):\n",
    "        for j in range(1,n):\n",
    "            f0[j] += f0[j-1]\n",
    "    print(f0[-1])\n"
   ]
  },
  {
   "cell_type": "code",
   "execution_count": 111,
   "metadata": {},
   "outputs": [
    {
     "name": "stdout",
     "output_type": "stream",
     "text": [
      "1\n",
      "2 6\n",
      "3\n"
     ]
    }
   ],
   "source": [
    "## 이동 횟수 (구글링)\n",
    "for _ in range(int(input())):\n",
    "    x,y=map(int,input().split());X=int((y-x-1)**0.5)\n",
    "    print(2*X+1 if y-x>X**2+X else 2*X)"
   ]
  }
 ],
 "metadata": {
  "kernelspec": {
   "display_name": "Python 3",
   "language": "python",
   "name": "python3"
  },
  "language_info": {
   "codemirror_mode": {
    "name": "ipython",
    "version": 3
   },
   "file_extension": ".py",
   "mimetype": "text/x-python",
   "name": "python",
   "nbconvert_exporter": "python",
   "pygments_lexer": "ipython3",
   "version": "3.7.4"
  }
 },
 "nbformat": 4,
 "nbformat_minor": 2
}
