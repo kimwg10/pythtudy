{
 "cells": [
  {
   "cell_type": "code",
   "execution_count": null,
   "metadata": {},
   "outputs": [],
   "source": [
    "###1번\n",
    "x = input()\n",
    "print(ord(x))"
   ]
  },
  {
   "cell_type": "code",
   "execution_count": null,
   "metadata": {
    "scrolled": true
   },
   "outputs": [],
   "source": [
    "###3번\n",
    "S = input()\n",
    "check = [-1]*26\n",
    "for i in range(len(S)):\n",
    "    for j in range(97,123):\n",
    "        if check[j-97]==-1:\n",
    "            if ord(S[i] ) == j:\n",
    "                check[j-97] =i\n",
    "for i in range(26):\n",
    "    print(check[i], end=' ')"
   ]
  },
  {
   "cell_type": "code",
   "execution_count": null,
   "metadata": {},
   "outputs": [],
   "source": [
    "###5번\n",
    "S = input()\n",
    "s = S.upper()\n",
    "list1=[0]*26\n",
    "for i in range(len(s)):\n",
    "    for j in range(65,91):\n",
    "        if ord(s[i]) == j:\n",
    "            list1[j-65] = list1[j -65] + 1\n",
    "check=0\n",
    "for i in range(0,26):\n",
    "    if list1[i] == max(list1):\n",
    "        check += 1\n",
    "if check >1:\n",
    "    print('?')\n",
    "if check == 1:\n",
    "    print(chr( list1.index(max(list1))+65 ))"
   ]
  },
  {
   "cell_type": "code",
   "execution_count": null,
   "metadata": {
    "scrolled": true
   },
   "outputs": [],
   "source": [
    "##7번\n",
    "A,B = input().split()\n",
    "listA=[];listB=[]\n",
    "for i in range(0,3):\n",
    "    listA.append(A[i])\n",
    "    listB.append(B[i])\n",
    "listA.reverse()\n",
    "listB.reverse()\n",
    "if listA > listB :\n",
    "    print(A[::-1])\n",
    "else :print(B[::-1])"
   ]
  },
  {
   "cell_type": "code",
   "execution_count": null,
   "metadata": {},
   "outputs": [],
   "source": [
    "###9번\n",
    "a = ['c=', 'c-', 'dz=', 'd-', 'lj', 'nj', 's=', 'z=']\n",
    "alpha = input()\n",
    "for t in a:\n",
    "    alpha = alpha.replace(t, '*')\n",
    "print(len(alpha))\n"
   ]
  }
 ],
 "metadata": {
  "kernelspec": {
   "display_name": "Python 3",
   "language": "python",
   "name": "python3"
  },
  "language_info": {
   "codemirror_mode": {
    "name": "ipython",
    "version": 3
   },
   "file_extension": ".py",
   "mimetype": "text/x-python",
   "name": "python",
   "nbconvert_exporter": "python",
   "pygments_lexer": "ipython3",
   "version": "3.7.4"
  }
 },
 "nbformat": 4,
 "nbformat_minor": 2
}
